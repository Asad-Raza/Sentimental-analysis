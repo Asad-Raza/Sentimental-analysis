{
  "nbformat": 4,
  "nbformat_minor": 0,
  "metadata": {
    "colab": {
      "name": "sentimental_analysis.ipynb",
      "version": "0.3.2",
      "provenance": []
    },
    "kernelspec": {
      "name": "python3",
      "display_name": "Python 3"
    },
    "accelerator": "GPU"
  },
  "cells": [
    {
      "metadata": {
        "id": "HT_7TW4a6Xyy",
        "colab_type": "text"
      },
      "cell_type": "markdown",
      "source": [
        "# ***sentimental analysis using imdb datasets***"
      ]
    },
    {
      "metadata": {
        "id": "HG_4WR9rV6kD",
        "colab_type": "code",
        "colab": {
          "base_uri": "https://localhost:8080/",
          "height": 34
        },
        "outputId": "b46101ae-f6a2-4b44-a1c5-5f41f5e2ddcc"
      },
      "cell_type": "code",
      "source": [
        "#impporting libraries\n",
        "from keras.datasets import imdb\n",
        "from keras.models import Sequential\n",
        "from keras.layers import LSTM,Dense\n",
        "from keras.layers.embeddings import Embedding\n",
        "from keras.preprocessing import sequence"
      ],
      "execution_count": 1,
      "outputs": [
        {
          "output_type": "stream",
          "text": [
            "Using TensorFlow backend.\n"
          ],
          "name": "stderr"
        }
      ]
    },
    {
      "metadata": {
        "id": "hhCpjagT6UZX",
        "colab_type": "code",
        "colab": {}
      },
      "cell_type": "code",
      "source": [
        ""
      ],
      "execution_count": 0,
      "outputs": []
    },
    {
      "metadata": {
        "id": "SEJqW_--W1RW",
        "colab_type": "code",
        "colab": {}
      },
      "cell_type": "code",
      "source": [
        "#loading imdb dataset\n",
        "(xtrain,ytrain),(xtest,ytest)=imdb.load_data(num_words=6000)\n"
      ],
      "execution_count": 0,
      "outputs": []
    },
    {
      "metadata": {
        "id": "YVDZD1dlY7F4",
        "colab_type": "code",
        "colab": {}
      },
      "cell_type": "code",
      "source": [
        "#padding train and test data\n",
        "xtrain=sequence.pad_sequences(xtrain,maxlen=500)\n",
        "xtest=sequence.pad_sequences(xtest,maxlen=500)"
      ],
      "execution_count": 0,
      "outputs": []
    },
    {
      "metadata": {
        "id": "DXbCxDwFaLrd",
        "colab_type": "code",
        "colab": {
          "base_uri": "https://localhost:8080/",
          "height": 89
        },
        "outputId": "bd9fd37c-a09b-46da-84c2-e53aec4bcc1c"
      },
      "cell_type": "code",
      "source": [
        "#creating model\n",
        "model=Sequential()\n",
        "model.add(Embedding(6000,32,input_length=500))\n",
        "model.add(LSTM(100))\n",
        "model.add(Dense(1,activation='sigmoid'))"
      ],
      "execution_count": 4,
      "outputs": [
        {
          "output_type": "stream",
          "text": [
            "WARNING:tensorflow:From /usr/local/lib/python3.6/dist-packages/tensorflow/python/framework/op_def_library.py:263: colocate_with (from tensorflow.python.framework.ops) is deprecated and will be removed in a future version.\n",
            "Instructions for updating:\n",
            "Colocations handled automatically by placer.\n"
          ],
          "name": "stdout"
        }
      ]
    },
    {
      "metadata": {
        "id": "aBvA5OHb6MLd",
        "colab_type": "text"
      },
      "cell_type": "markdown",
      "source": [
        "compiling model\n"
      ]
    },
    {
      "metadata": {
        "id": "rz0oHKCxk-YB",
        "colab_type": "code",
        "colab": {}
      },
      "cell_type": "code",
      "source": [
        "model.compile(optimizer='Adam',loss='binary_crossentropy',metrics=['accuracy'])"
      ],
      "execution_count": 0,
      "outputs": []
    },
    {
      "metadata": {
        "id": "1i_Z6eRR528b",
        "colab_type": "text"
      },
      "cell_type": "markdown",
      "source": [
        "Fitting our compiled **model**\n",
        "to our training set\n"
      ]
    },
    {
      "metadata": {
        "id": "m2Z5zECSmJ-Z",
        "colab_type": "code",
        "colab": {
          "base_uri": "https://localhost:8080/",
          "height": 454
        },
        "outputId": "75db5bdb-5a7e-43cf-faba-caf3a8d7a339"
      },
      "cell_type": "code",
      "source": [
        "model.fit(xtrain,ytrain,epochs=10,batch_size=64)\n",
        "#print(xtest)"
      ],
      "execution_count": 6,
      "outputs": [
        {
          "output_type": "stream",
          "text": [
            "WARNING:tensorflow:From /usr/local/lib/python3.6/dist-packages/tensorflow/python/ops/math_ops.py:3066: to_int32 (from tensorflow.python.ops.math_ops) is deprecated and will be removed in a future version.\n",
            "Instructions for updating:\n",
            "Use tf.cast instead.\n",
            "Epoch 1/10\n",
            "25000/25000 [==============================] - 358s 14ms/step - loss: 0.4605 - acc: 0.7755\n",
            "Epoch 2/10\n",
            "25000/25000 [==============================] - 358s 14ms/step - loss: 0.3105 - acc: 0.8698\n",
            "Epoch 3/10\n",
            "25000/25000 [==============================] - 358s 14ms/step - loss: 0.2428 - acc: 0.9051\n",
            "Epoch 4/10\n",
            "25000/25000 [==============================] - 355s 14ms/step - loss: 0.1947 - acc: 0.9262\n",
            "Epoch 5/10\n",
            "25000/25000 [==============================] - 354s 14ms/step - loss: 0.1592 - acc: 0.9401\n",
            "Epoch 6/10\n",
            "25000/25000 [==============================] - 352s 14ms/step - loss: 0.1340 - acc: 0.9512\n",
            "Epoch 7/10\n",
            "25000/25000 [==============================] - 351s 14ms/step - loss: 0.1176 - acc: 0.9580\n",
            "Epoch 8/10\n",
            "25000/25000 [==============================] - 352s 14ms/step - loss: 0.1019 - acc: 0.9656\n",
            "Epoch 9/10\n",
            "25000/25000 [==============================] - 354s 14ms/step - loss: 0.0792 - acc: 0.9732\n",
            "Epoch 10/10\n",
            "25000/25000 [==============================] - 351s 14ms/step - loss: 0.0795 - acc: 0.9738\n"
          ],
          "name": "stdout"
        },
        {
          "output_type": "execute_result",
          "data": {
            "text/plain": [
              "<keras.callbacks.History at 0x7f4403521a90>"
            ]
          },
          "metadata": {
            "tags": []
          },
          "execution_count": 6
        }
      ]
    },
    {
      "metadata": {
        "id": "zxTQOHVhnJJR",
        "colab_type": "code",
        "colab": {}
      },
      "cell_type": "code",
      "source": [
        "model_accuracy = model.evaluate(xtest, ytest, verbose=0) "
      ],
      "execution_count": 0,
      "outputs": []
    },
    {
      "metadata": {
        "id": "aaJs7K-28gZ1",
        "colab_type": "code",
        "colab": {
          "base_uri": "https://localhost:8080/",
          "height": 34
        },
        "outputId": "a607341d-b560-44d6-e2d0-bb29b23cac93"
      },
      "cell_type": "code",
      "source": [
        "print(\"Model accuracy on the test dataset: {0:.2f}%\".format(model_accuracy[1]*100))"
      ],
      "execution_count": 11,
      "outputs": [
        {
          "output_type": "stream",
          "text": [
            "Model accuracy on the test dataset: 85.29%\n"
          ],
          "name": "stdout"
        }
      ]
    },
    {
      "metadata": {
        "id": "yQEyMemh8vTX",
        "colab_type": "code",
        "colab": {}
      },
      "cell_type": "code",
      "source": [
        ""
      ],
      "execution_count": 0,
      "outputs": []
    }
  ]
}